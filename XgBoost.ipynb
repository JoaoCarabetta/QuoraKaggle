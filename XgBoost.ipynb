{
 "cells": [
  {
   "cell_type": "markdown",
   "metadata": {},
   "source": [
    "CONCLUSÕES:\n",
    "- 8 Features explicam o mesmo que 28 Features. Features correlacionadas tem baixo poder preditivo, uma já é suficiente."
   ]
  },
  {
   "cell_type": "code",
   "execution_count": 1,
   "metadata": {},
   "outputs": [
    {
     "name": "stderr",
     "output_type": "stream",
     "text": [
      "/usr/local/lib/python3.5/dist-packages/IPython/html.py:14: ShimWarning: The `IPython.html` package has been deprecated since IPython 4.0. You should import from `notebook` instead. `IPython.html.widgets` has moved to `ipywidgets`.\n",
      "  \"`IPython.html.widgets` has moved to `ipywidgets`.\", ShimWarning)\n",
      "/usr/local/lib/python3.5/dist-packages/sklearn/cross_validation.py:44: DeprecationWarning: This module was deprecated in version 0.18 in favor of the model_selection module into which all the refactored classes and functions are moved. Also note that the interface of the new CV iterators are different from that of this module. This module will be removed in 0.20.\n",
      "  \"This module will be removed in 0.20.\", DeprecationWarning)\n"
     ]
    }
   ],
   "source": [
    "import pandas as pd\n",
    "import numpy as np\n",
    "import matplotlib\n",
    "import matplotlib.pyplot as plt\n",
    "import pickle as p\n",
    "import itertools\n",
    "import seaborn.apionly as sns\n",
    "import seaborn\n",
    "import xgboost as xgb\n",
    "from sklearn.cross_validation import train_test_split\n",
    "\n",
    "%matplotlib inline"
   ]
  },
  {
   "cell_type": "markdown",
   "metadata": {},
   "source": [
    "##### LOAD FEATURES\n",
    "\n",
    "Carrega o train set com a features e deleta possíveis nulos"
   ]
  },
  {
   "cell_type": "code",
   "execution_count": 2,
   "metadata": {
    "collapsed": true
   },
   "outputs": [],
   "source": [
    "train_features = pd.read_csv('./quora_train_engineered.csv')"
   ]
  },
  {
   "cell_type": "code",
   "execution_count": 3,
   "metadata": {},
   "outputs": [
    {
     "name": "stdout",
     "output_type": "stream",
     "text": [
      "404290\n"
     ]
    },
    {
     "data": {
      "text/html": [
       "<div>\n",
       "<style>\n",
       "    .dataframe thead tr:only-child th {\n",
       "        text-align: right;\n",
       "    }\n",
       "\n",
       "    .dataframe thead th {\n",
       "        text-align: left;\n",
       "    }\n",
       "\n",
       "    .dataframe tbody tr th {\n",
       "        vertical-align: top;\n",
       "    }\n",
       "</style>\n",
       "<table border=\"1\" class=\"dataframe\">\n",
       "  <thead>\n",
       "    <tr style=\"text-align: right;\">\n",
       "      <th></th>\n",
       "      <th>question1</th>\n",
       "      <th>question2</th>\n",
       "      <th>is_duplicate</th>\n",
       "      <th>len_q1</th>\n",
       "      <th>len_q2</th>\n",
       "      <th>diff_len</th>\n",
       "      <th>len_char_q1</th>\n",
       "      <th>len_char_q2</th>\n",
       "      <th>len_word_q1</th>\n",
       "      <th>len_word_q2</th>\n",
       "      <th>...</th>\n",
       "      <th>cityblock_distance</th>\n",
       "      <th>jaccard_distance</th>\n",
       "      <th>canberra_distance</th>\n",
       "      <th>euclidean_distance</th>\n",
       "      <th>minkowski_distance</th>\n",
       "      <th>braycurtis_distance</th>\n",
       "      <th>skew_q1vec</th>\n",
       "      <th>skew_q2vec</th>\n",
       "      <th>kur_q1vec</th>\n",
       "      <th>kur_q2vec</th>\n",
       "    </tr>\n",
       "  </thead>\n",
       "  <tbody>\n",
       "    <tr>\n",
       "      <th>0</th>\n",
       "      <td>What is the step by step guide to invest in sh...</td>\n",
       "      <td>What is the step by step guide to invest in sh...</td>\n",
       "      <td>0</td>\n",
       "      <td>66</td>\n",
       "      <td>57</td>\n",
       "      <td>9</td>\n",
       "      <td>20</td>\n",
       "      <td>20</td>\n",
       "      <td>14</td>\n",
       "      <td>12</td>\n",
       "      <td>...</td>\n",
       "      <td>5.081614</td>\n",
       "      <td>1.0</td>\n",
       "      <td>94.023324</td>\n",
       "      <td>0.371408</td>\n",
       "      <td>0.168999</td>\n",
       "      <td>0.186557</td>\n",
       "      <td>0.031817</td>\n",
       "      <td>-0.091902</td>\n",
       "      <td>0.050416</td>\n",
       "      <td>0.337301</td>\n",
       "    </tr>\n",
       "  </tbody>\n",
       "</table>\n",
       "<p>1 rows × 31 columns</p>\n",
       "</div>"
      ],
      "text/plain": [
       "                                           question1  \\\n",
       "0  What is the step by step guide to invest in sh...   \n",
       "\n",
       "                                           question2  is_duplicate  len_q1  \\\n",
       "0  What is the step by step guide to invest in sh...             0      66   \n",
       "\n",
       "   len_q2  diff_len  len_char_q1  len_char_q2  len_word_q1  len_word_q2  \\\n",
       "0      57         9           20           20           14           12   \n",
       "\n",
       "     ...      cityblock_distance  jaccard_distance  canberra_distance  \\\n",
       "0    ...                5.081614               1.0          94.023324   \n",
       "\n",
       "   euclidean_distance  minkowski_distance  braycurtis_distance  skew_q1vec  \\\n",
       "0            0.371408            0.168999             0.186557    0.031817   \n",
       "\n",
       "   skew_q2vec  kur_q1vec  kur_q2vec  \n",
       "0   -0.091902   0.050416   0.337301  \n",
       "\n",
       "[1 rows x 31 columns]"
      ]
     },
     "execution_count": 3,
     "metadata": {},
     "output_type": "execute_result"
    }
   ],
   "source": [
    "print(len(train_features))\n",
    "train_features.head(1)"
   ]
  },
  {
   "cell_type": "code",
   "execution_count": 4,
   "metadata": {},
   "outputs": [
    {
     "data": {
      "text/plain": [
       "Index(['question1', 'question2', 'is_duplicate', 'len_q1', 'len_q2',\n",
       "       'diff_len', 'len_char_q1', 'len_char_q2', 'len_word_q1', 'len_word_q2',\n",
       "       'common_words', 'fuzz_qratio', 'fuzz_WRatio', 'fuzz_partial_ratio',\n",
       "       'fuzz_partial_token_set_ratio', 'fuzz_partial_token_sort_ratio',\n",
       "       'fuzz_token_set_ratio', 'fuzz_token_sort_ratio', 'wmd', 'norm_wmd',\n",
       "       'cosine_distance', 'cityblock_distance', 'jaccard_distance',\n",
       "       'canberra_distance', 'euclidean_distance', 'minkowski_distance',\n",
       "       'braycurtis_distance', 'skew_q1vec', 'skew_q2vec', 'kur_q1vec',\n",
       "       'kur_q2vec'],\n",
       "      dtype='object')"
      ]
     },
     "execution_count": 4,
     "metadata": {},
     "output_type": "execute_result"
    }
   ],
   "source": [
    "train_features.columns"
   ]
  },
  {
   "cell_type": "code",
   "execution_count": 5,
   "metadata": {},
   "outputs": [
    {
     "name": "stdout",
     "output_type": "stream",
     "text": [
      "402489\n"
     ]
    }
   ],
   "source": [
    "train_features = train_features.dropna()\n",
    "print(len(train_features))"
   ]
  },
  {
   "cell_type": "code",
   "execution_count": 6,
   "metadata": {},
   "outputs": [
    {
     "name": "stdout",
     "output_type": "stream",
     "text": [
      "393325\n"
     ]
    }
   ],
   "source": [
    "train_features = train_features.replace([np.inf, -np.inf], np.nan).dropna()\n",
    "print(len(train_features))"
   ]
  },
  {
   "cell_type": "code",
   "execution_count": 7,
   "metadata": {
    "scrolled": true
   },
   "outputs": [
    {
     "data": {
      "text/html": [
       "<div>\n",
       "<style>\n",
       "    .dataframe thead tr:only-child th {\n",
       "        text-align: right;\n",
       "    }\n",
       "\n",
       "    .dataframe thead th {\n",
       "        text-align: left;\n",
       "    }\n",
       "\n",
       "    .dataframe tbody tr th {\n",
       "        vertical-align: top;\n",
       "    }\n",
       "</style>\n",
       "<table border=\"1\" class=\"dataframe\">\n",
       "  <thead>\n",
       "    <tr style=\"text-align: right;\">\n",
       "      <th></th>\n",
       "      <th>is_duplicate</th>\n",
       "      <th>len_q1</th>\n",
       "      <th>len_q2</th>\n",
       "      <th>diff_len</th>\n",
       "      <th>len_char_q1</th>\n",
       "      <th>len_char_q2</th>\n",
       "      <th>len_word_q1</th>\n",
       "      <th>len_word_q2</th>\n",
       "      <th>common_words</th>\n",
       "      <th>fuzz_qratio</th>\n",
       "      <th>...</th>\n",
       "      <th>cityblock_distance</th>\n",
       "      <th>jaccard_distance</th>\n",
       "      <th>canberra_distance</th>\n",
       "      <th>euclidean_distance</th>\n",
       "      <th>minkowski_distance</th>\n",
       "      <th>braycurtis_distance</th>\n",
       "      <th>skew_q1vec</th>\n",
       "      <th>skew_q2vec</th>\n",
       "      <th>kur_q1vec</th>\n",
       "      <th>kur_q2vec</th>\n",
       "    </tr>\n",
       "  </thead>\n",
       "  <tbody>\n",
       "    <tr>\n",
       "      <th>count</th>\n",
       "      <td>393325.000000</td>\n",
       "      <td>393325.000000</td>\n",
       "      <td>393325.000000</td>\n",
       "      <td>393325.000000</td>\n",
       "      <td>393325.000000</td>\n",
       "      <td>393325.000000</td>\n",
       "      <td>393325.000000</td>\n",
       "      <td>393325.000000</td>\n",
       "      <td>393325.000000</td>\n",
       "      <td>393325.000000</td>\n",
       "      <td>...</td>\n",
       "      <td>393325.000000</td>\n",
       "      <td>393325.000000</td>\n",
       "      <td>393325.000000</td>\n",
       "      <td>393325.000000</td>\n",
       "      <td>393325.000000</td>\n",
       "      <td>393325.000000</td>\n",
       "      <td>393325.000000</td>\n",
       "      <td>393325.000000</td>\n",
       "      <td>393325.000000</td>\n",
       "      <td>393325.000000</td>\n",
       "    </tr>\n",
       "    <tr>\n",
       "      <th>mean</th>\n",
       "      <td>0.373147</td>\n",
       "      <td>60.311986</td>\n",
       "      <td>60.915289</td>\n",
       "      <td>-0.603303</td>\n",
       "      <td>20.358383</td>\n",
       "      <td>20.346022</td>\n",
       "      <td>11.087015</td>\n",
       "      <td>11.333958</td>\n",
       "      <td>4.577741</td>\n",
       "      <td>58.347913</td>\n",
       "      <td>...</td>\n",
       "      <td>9.168629</td>\n",
       "      <td>0.931813</td>\n",
       "      <td>131.565848</td>\n",
       "      <td>0.662708</td>\n",
       "      <td>0.298953</td>\n",
       "      <td>0.367942</td>\n",
       "      <td>0.010352</td>\n",
       "      <td>0.010401</td>\n",
       "      <td>-0.052685</td>\n",
       "      <td>-0.054127</td>\n",
       "    </tr>\n",
       "    <tr>\n",
       "      <th>std</th>\n",
       "      <td>0.483641</td>\n",
       "      <td>29.816552</td>\n",
       "      <td>33.826257</td>\n",
       "      <td>32.729612</td>\n",
       "      <td>4.103479</td>\n",
       "      <td>4.232956</td>\n",
       "      <td>5.403554</td>\n",
       "      <td>6.298609</td>\n",
       "      <td>3.106880</td>\n",
       "      <td>21.973585</td>\n",
       "      <td>...</td>\n",
       "      <td>4.264971</td>\n",
       "      <td>0.252065</td>\n",
       "      <td>47.306981</td>\n",
       "      <td>0.308122</td>\n",
       "      <td>0.139067</td>\n",
       "      <td>0.195305</td>\n",
       "      <td>0.135298</td>\n",
       "      <td>0.134904</td>\n",
       "      <td>0.265730</td>\n",
       "      <td>0.264215</td>\n",
       "    </tr>\n",
       "    <tr>\n",
       "      <th>min</th>\n",
       "      <td>0.000000</td>\n",
       "      <td>1.000000</td>\n",
       "      <td>2.000000</td>\n",
       "      <td>-1080.000000</td>\n",
       "      <td>1.000000</td>\n",
       "      <td>1.000000</td>\n",
       "      <td>1.000000</td>\n",
       "      <td>1.000000</td>\n",
       "      <td>0.000000</td>\n",
       "      <td>0.000000</td>\n",
       "      <td>...</td>\n",
       "      <td>0.000000</td>\n",
       "      <td>0.000000</td>\n",
       "      <td>0.000000</td>\n",
       "      <td>0.000000</td>\n",
       "      <td>0.000000</td>\n",
       "      <td>0.000000</td>\n",
       "      <td>-0.669451</td>\n",
       "      <td>-0.669451</td>\n",
       "      <td>-0.857844</td>\n",
       "      <td>-0.829341</td>\n",
       "    </tr>\n",
       "    <tr>\n",
       "      <th>25%</th>\n",
       "      <td>0.000000</td>\n",
       "      <td>40.000000</td>\n",
       "      <td>40.000000</td>\n",
       "      <td>-12.000000</td>\n",
       "      <td>18.000000</td>\n",
       "      <td>17.000000</td>\n",
       "      <td>8.000000</td>\n",
       "      <td>7.000000</td>\n",
       "      <td>2.000000</td>\n",
       "      <td>41.000000</td>\n",
       "      <td>...</td>\n",
       "      <td>6.601517</td>\n",
       "      <td>1.000000</td>\n",
       "      <td>112.802617</td>\n",
       "      <td>0.477007</td>\n",
       "      <td>0.215150</td>\n",
       "      <td>0.245304</td>\n",
       "      <td>-0.080458</td>\n",
       "      <td>-0.080101</td>\n",
       "      <td>-0.238232</td>\n",
       "      <td>-0.239380</td>\n",
       "    </tr>\n",
       "    <tr>\n",
       "      <th>50%</th>\n",
       "      <td>0.000000</td>\n",
       "      <td>52.000000</td>\n",
       "      <td>51.000000</td>\n",
       "      <td>0.000000</td>\n",
       "      <td>20.000000</td>\n",
       "      <td>20.000000</td>\n",
       "      <td>10.000000</td>\n",
       "      <td>10.000000</td>\n",
       "      <td>4.000000</td>\n",
       "      <td>59.000000</td>\n",
       "      <td>...</td>\n",
       "      <td>9.194268</td>\n",
       "      <td>1.000000</td>\n",
       "      <td>138.476616</td>\n",
       "      <td>0.664615</td>\n",
       "      <td>0.299724</td>\n",
       "      <td>0.351586</td>\n",
       "      <td>0.011966</td>\n",
       "      <td>0.011953</td>\n",
       "      <td>-0.081463</td>\n",
       "      <td>-0.082807</td>\n",
       "    </tr>\n",
       "    <tr>\n",
       "      <th>75%</th>\n",
       "      <td>1.000000</td>\n",
       "      <td>72.000000</td>\n",
       "      <td>72.000000</td>\n",
       "      <td>12.000000</td>\n",
       "      <td>23.000000</td>\n",
       "      <td>23.000000</td>\n",
       "      <td>13.000000</td>\n",
       "      <td>13.000000</td>\n",
       "      <td>6.000000</td>\n",
       "      <td>76.000000</td>\n",
       "      <td>...</td>\n",
       "      <td>11.827348</td>\n",
       "      <td>1.000000</td>\n",
       "      <td>160.990508</td>\n",
       "      <td>0.854588</td>\n",
       "      <td>0.385468</td>\n",
       "      <td>0.471933</td>\n",
       "      <td>0.101535</td>\n",
       "      <td>0.100640</td>\n",
       "      <td>0.101924</td>\n",
       "      <td>0.100228</td>\n",
       "    </tr>\n",
       "    <tr>\n",
       "      <th>max</th>\n",
       "      <td>1.000000</td>\n",
       "      <td>623.000000</td>\n",
       "      <td>1169.000000</td>\n",
       "      <td>487.000000</td>\n",
       "      <td>52.000000</td>\n",
       "      <td>55.000000</td>\n",
       "      <td>125.000000</td>\n",
       "      <td>237.000000</td>\n",
       "      <td>41.000000</td>\n",
       "      <td>100.000000</td>\n",
       "      <td>...</td>\n",
       "      <td>20.511668</td>\n",
       "      <td>1.000000</td>\n",
       "      <td>230.190867</td>\n",
       "      <td>1.496936</td>\n",
       "      <td>0.682163</td>\n",
       "      <td>1.101037</td>\n",
       "      <td>0.675833</td>\n",
       "      <td>0.781670</td>\n",
       "      <td>2.288984</td>\n",
       "      <td>2.227666</td>\n",
       "    </tr>\n",
       "  </tbody>\n",
       "</table>\n",
       "<p>8 rows × 29 columns</p>\n",
       "</div>"
      ],
      "text/plain": [
       "        is_duplicate         len_q1         len_q2       diff_len  \\\n",
       "count  393325.000000  393325.000000  393325.000000  393325.000000   \n",
       "mean        0.373147      60.311986      60.915289      -0.603303   \n",
       "std         0.483641      29.816552      33.826257      32.729612   \n",
       "min         0.000000       1.000000       2.000000   -1080.000000   \n",
       "25%         0.000000      40.000000      40.000000     -12.000000   \n",
       "50%         0.000000      52.000000      51.000000       0.000000   \n",
       "75%         1.000000      72.000000      72.000000      12.000000   \n",
       "max         1.000000     623.000000    1169.000000     487.000000   \n",
       "\n",
       "         len_char_q1    len_char_q2    len_word_q1    len_word_q2  \\\n",
       "count  393325.000000  393325.000000  393325.000000  393325.000000   \n",
       "mean       20.358383      20.346022      11.087015      11.333958   \n",
       "std         4.103479       4.232956       5.403554       6.298609   \n",
       "min         1.000000       1.000000       1.000000       1.000000   \n",
       "25%        18.000000      17.000000       8.000000       7.000000   \n",
       "50%        20.000000      20.000000      10.000000      10.000000   \n",
       "75%        23.000000      23.000000      13.000000      13.000000   \n",
       "max        52.000000      55.000000     125.000000     237.000000   \n",
       "\n",
       "        common_words    fuzz_qratio      ...        cityblock_distance  \\\n",
       "count  393325.000000  393325.000000      ...             393325.000000   \n",
       "mean        4.577741      58.347913      ...                  9.168629   \n",
       "std         3.106880      21.973585      ...                  4.264971   \n",
       "min         0.000000       0.000000      ...                  0.000000   \n",
       "25%         2.000000      41.000000      ...                  6.601517   \n",
       "50%         4.000000      59.000000      ...                  9.194268   \n",
       "75%         6.000000      76.000000      ...                 11.827348   \n",
       "max        41.000000     100.000000      ...                 20.511668   \n",
       "\n",
       "       jaccard_distance  canberra_distance  euclidean_distance  \\\n",
       "count     393325.000000      393325.000000       393325.000000   \n",
       "mean           0.931813         131.565848            0.662708   \n",
       "std            0.252065          47.306981            0.308122   \n",
       "min            0.000000           0.000000            0.000000   \n",
       "25%            1.000000         112.802617            0.477007   \n",
       "50%            1.000000         138.476616            0.664615   \n",
       "75%            1.000000         160.990508            0.854588   \n",
       "max            1.000000         230.190867            1.496936   \n",
       "\n",
       "       minkowski_distance  braycurtis_distance     skew_q1vec     skew_q2vec  \\\n",
       "count       393325.000000        393325.000000  393325.000000  393325.000000   \n",
       "mean             0.298953             0.367942       0.010352       0.010401   \n",
       "std              0.139067             0.195305       0.135298       0.134904   \n",
       "min              0.000000             0.000000      -0.669451      -0.669451   \n",
       "25%              0.215150             0.245304      -0.080458      -0.080101   \n",
       "50%              0.299724             0.351586       0.011966       0.011953   \n",
       "75%              0.385468             0.471933       0.101535       0.100640   \n",
       "max              0.682163             1.101037       0.675833       0.781670   \n",
       "\n",
       "           kur_q1vec      kur_q2vec  \n",
       "count  393325.000000  393325.000000  \n",
       "mean       -0.052685      -0.054127  \n",
       "std         0.265730       0.264215  \n",
       "min        -0.857844      -0.829341  \n",
       "25%        -0.238232      -0.239380  \n",
       "50%        -0.081463      -0.082807  \n",
       "75%         0.101924       0.100228  \n",
       "max         2.288984       2.227666  \n",
       "\n",
       "[8 rows x 29 columns]"
      ]
     },
     "execution_count": 7,
     "metadata": {},
     "output_type": "execute_result"
    }
   ],
   "source": [
    "train_features.describe()"
   ]
  },
  {
   "cell_type": "markdown",
   "metadata": {},
   "source": [
    "##### Normalize"
   ]
  },
  {
   "cell_type": "code",
   "execution_count": 8,
   "metadata": {
    "collapsed": true
   },
   "outputs": [],
   "source": [
    "from sklearn.preprocessing import StandardScaler\n",
    "\n",
    "def normalize(train_data):\n",
    "    train_data = train_data.values\n",
    "    scaler = StandardScaler()\n",
    "    \n",
    "    X_train = scaler.fit_transform(train_data[0::,3::])\n",
    "\n",
    "    y_train = train_data[0::, 2]\n",
    "\n",
    "    return X_train, y_train"
   ]
  },
  {
   "cell_type": "code",
   "execution_count": 89,
   "metadata": {},
   "outputs": [
    {
     "name": "stderr",
     "output_type": "stream",
     "text": [
      "/usr/local/lib/python3.5/dist-packages/sklearn/utils/validation.py:429: DataConversionWarning: Data with input dtype object was converted to float64 by StandardScaler.\n",
      "  warnings.warn(msg, _DataConversionWarning)\n"
     ]
    },
    {
     "name": "stdout",
     "output_type": "stream",
     "text": [
      "[0 0 0 ..., 0 0 0]\n"
     ]
    }
   ],
   "source": [
    "x_train, y_train = normalize(train_features)"
   ]
  },
  {
   "cell_type": "code",
   "execution_count": 15,
   "metadata": {},
   "outputs": [
    {
     "name": "stdout",
     "output_type": "stream",
     "text": [
      "[[ 0.19076723 -0.11574718  0.29341364 ..., -0.75833929  0.38799228\n",
      "   1.48147671]\n",
      " [-0.31230969  0.80070182 -1.11204323 ...,  0.62491078  1.26705555\n",
      "   0.07449748]\n",
      " [ 0.42553645 -0.05662144  0.4461807  ...,  0.99443795  0.29896417\n",
      "  -1.58963206]\n",
      " ..., \n",
      " [-1.45261735 -1.29826201  0.01843295 ..., -1.16928459 -0.85365441\n",
      "  -1.30004414]\n",
      " [ 1.12984413  1.95365378 -0.98982959 ..., -1.22979346 -1.24111792\n",
      "  -0.41197355]\n",
      " [-0.78184814 -0.47050163 -0.22599433 ...,  1.31754859  2.03282159\n",
      "   2.04993959]]\n",
      "{0, 1}\n",
      "(393325, 28)\n",
      "(393325,)\n"
     ]
    }
   ],
   "source": [
    "print(X_train)\n",
    "print(set(y_train))\n",
    "print(np.shape(X_train))\n",
    "print(np.shape(y_train))"
   ]
  },
  {
   "cell_type": "markdown",
   "metadata": {},
   "source": [
    "##### Import Metrics"
   ]
  },
  {
   "cell_type": "code",
   "execution_count": 10,
   "metadata": {
    "collapsed": true
   },
   "outputs": [],
   "source": [
    "from sklearn import model_selection\n",
    "\n",
    "from sklearn.metrics import confusion_matrix\n",
    "from sklearn.metrics import classification_report\n",
    "from sklearn.metrics import confusion_matrix\n",
    "from sklearn.metrics import roc_auc_score\n",
    "from sklearn.metrics import roc_curve\n",
    "from sklearn.metrics import accuracy_score\n",
    "from sklearn.metrics import average_precision_score\n",
    "from sklearn.metrics import f1_score\n",
    "from sklearn.metrics import log_loss"
   ]
  },
  {
   "cell_type": "code",
   "execution_count": 9,
   "metadata": {
    "collapsed": true
   },
   "outputs": [],
   "source": [
    "def plot_confusion_matrix(cm, classes,\n",
    "                          normalize=False,\n",
    "                          title='Confusion matrix',\n",
    "                          cmap=plt.cm.Blues):\n",
    "    \"\"\"\n",
    "    This function prints and plots the confusion matrix.\n",
    "    Normalization can be applied by setting `normalize=True`.\n",
    "    \"\"\"\n",
    "    plt.imshow(cm, interpolation='nearest', cmap=cmap)\n",
    "    plt.title(title)\n",
    "    plt.colorbar()\n",
    "    tick_marks = np.arange(len(classes))\n",
    "    plt.xticks(tick_marks, classes, rotation=45)\n",
    "    plt.yticks(tick_marks, classes)\n",
    "\n",
    "    if normalize:\n",
    "        cm = cm.astype('float') / cm.sum(axis=1)[:, np.newaxis]\n",
    "        print(\"Normalized confusion matrix\")\n",
    "    else:\n",
    "        print('Confusion matrix, without normalization')\n",
    "\n",
    "    print(cm)\n",
    "\n",
    "    thresh = cm.max() / 2.\n",
    "    for i, j in itertools.product(range(cm.shape[0]), range(cm.shape[1])):\n",
    "        plt.text(j, i, cm[i, j],\n",
    "                 horizontalalignment=\"center\",\n",
    "                 color=\"white\" if cm[i, j] > thresh else \"black\")\n",
    "\n",
    "    plt.tight_layout()\n",
    "    plt.ylabel('True label')\n",
    "    plt.xlabel('Predicted label')\n",
    "    \n",
    "def clf_eval(clf, X, y_true, classes=['Non Duplicated', 'Duplicated']):\n",
    "    y_pred = clf.predict(X)\n",
    "    y_pred = np.asarray(y_pred, dtype=np.int)\n",
    "    y_true = np.asarray(y_true, dtype=np.int)\n",
    "    clf_matrix = confusion_matrix(y_true, y_pred)\n",
    "    print('Classification Report')\n",
    "    print(classification_report(y_true, y_pred, target_names=classes))\n",
    "    print('ROC Score: {}'.format(roc_auc_score(y_true, y_pred)))\n",
    "    print('Accuracy Score: {}'.format(accuracy_score(y_true, y_pred)))\n",
    "    print('Average Precision Score: {}'.format(average_precision_score(y_true, y_pred)))\n",
    "    print('f1 Score: {}'.format(f1_score(y_true, y_pred)))\n",
    "    plot_confusion_matrix(clf_matrix, classes=classes)\n",
    "    return roc_auc_score(y_true, y_pred)"
   ]
  },
  {
   "cell_type": "markdown",
   "metadata": {},
   "source": [
    "##### Primeira tentativa\n",
    "\n",
    "Cross Validation e XGBoost \n",
    "\n",
    "Sem tuning dos parametros"
   ]
  },
  {
   "cell_type": "code",
   "execution_count": 19,
   "metadata": {},
   "outputs": [
    {
     "name": "stdout",
     "output_type": "stream",
     "text": [
      "275327 117998 275327 117998\n"
     ]
    }
   ],
   "source": [
    "X_traincv, X_testcv, y_traincv, y_testcv = model_selection.train_test_split(X_train,\n",
    "                                                                            y_train,\n",
    "                                                                            test_size=0.3,\n",
    "                                                                            random_state=0)\n",
    "print(len(X_traincv), len(X_testcv), len(y_traincv), len(y_testcv))\n",
    "y_traincv = np.asarray(y_traincv, dtype=\"|S6\")"
   ]
  },
  {
   "cell_type": "code",
   "execution_count": 23,
   "metadata": {},
   "outputs": [
    {
     "name": "stderr",
     "output_type": "stream",
     "text": [
      "/usr/local/lib/python3.5/dist-packages/sklearn/cross_validation.py:44: DeprecationWarning: This module was deprecated in version 0.18 in favor of the model_selection module into which all the refactored classes and functions are moved. Also note that the interface of the new CV iterators are different from that of this module. This module will be removed in 0.20.\n",
      "  \"This module will be removed in 0.20.\", DeprecationWarning)\n"
     ]
    },
    {
     "ename": "NameError",
     "evalue": "name 'clf_xgb' is not defined",
     "output_type": "error",
     "traceback": [
      "\u001b[0;31m---------------------------------------------------------------------------\u001b[0m",
      "\u001b[0;31mNameError\u001b[0m                                 Traceback (most recent call last)",
      "\u001b[0;32m<ipython-input-23-e1c708664dd3>\u001b[0m in \u001b[0;36m<module>\u001b[0;34m()\u001b[0m\n\u001b[1;32m     20\u001b[0m                                         \u001b[0mseed\u001b[0m\u001b[0;34m=\u001b[0m\u001b[0;36m0\u001b[0m\u001b[0;34m,\u001b[0m\u001b[0;34m\u001b[0m\u001b[0m\n\u001b[1;32m     21\u001b[0m                                         silent=False,).fit(X_traincv, y_traincv)\n\u001b[0;32m---> 22\u001b[0;31m \u001b[0mprint\u001b[0m\u001b[0;34m(\u001b[0m\u001b[0mlen\u001b[0m\u001b[0;34m(\u001b[0m\u001b[0mclf_xgb\u001b[0m\u001b[0;34m.\u001b[0m\u001b[0mpredict\u001b[0m\u001b[0;34m(\u001b[0m\u001b[0mX_testcv\u001b[0m\u001b[0;34m)\u001b[0m\u001b[0;34m)\u001b[0m\u001b[0;34m)\u001b[0m\u001b[0;34m\u001b[0m\u001b[0m\n\u001b[0m\u001b[1;32m     23\u001b[0m \u001b[0mprint\u001b[0m\u001b[0;34m(\u001b[0m\u001b[0mlen\u001b[0m\u001b[0;34m(\u001b[0m\u001b[0my_testcv\u001b[0m\u001b[0;34m)\u001b[0m\u001b[0;34m)\u001b[0m\u001b[0;34m\u001b[0m\u001b[0m\n",
      "\u001b[0;31mNameError\u001b[0m: name 'clf_xgb' is not defined"
     ]
    }
   ],
   "source": [
    "import xgboost\n",
    "\n",
    "clf_xgb1 = xgboost.sklearn.XGBClassifier(base_score=0.5,\n",
    "                                        learning_rate=0.1,\n",
    "                                        n_estimators=250,\n",
    "                                        max_delta_step=0,\n",
    "                                        max_depth=3,\n",
    "                                        min_child_weight=1,\n",
    "                                        missing=None,\n",
    "                                        gamma=0,\n",
    "                                        subsample=1,\n",
    "                                        colsample_bylevel=1,\n",
    "                                        colsample_bytree=1,\n",
    "                                        objective= 'binary:logitraw',\n",
    "                                        #objective='multi:softprob',\n",
    "                                        reg_alpha=0, \n",
    "                                        reg_lambda=1,\n",
    "                                        nthread=-1,\n",
    "                                        scale_pos_weight=1,\n",
    "                                        seed=0,\n",
    "                                        silent=False,).fit(X_traincv, y_traincv)"
   ]
  },
  {
   "cell_type": "code",
   "execution_count": 24,
   "metadata": {},
   "outputs": [
    {
     "name": "stdout",
     "output_type": "stream",
     "text": [
      "LogLoss Score: 3.941093784479713\n"
     ]
    }
   ],
   "source": [
    "a = clf_xgb1.predict_proba(X_testcv)\n",
    "print('LogLoss Score: {}'.format(log_loss(list(y_testcv), a)))"
   ]
  },
  {
   "cell_type": "code",
   "execution_count": 28,
   "metadata": {},
   "outputs": [
    {
     "name": "stdout",
     "output_type": "stream",
     "text": [
      "Classification Report\n",
      "               precision    recall  f1-score   support\n",
      "\n",
      "Não Repetidas       0.70      0.93      0.80     74095\n",
      "    Repetidas       0.72      0.32      0.44     43903\n",
      "\n",
      "  avg / total       0.71      0.70      0.66    117998\n",
      "\n",
      "ROC Score: 0.6224522738989107\n",
      "Accuracy Score: 0.7002830556450109\n",
      "Average Precision Score: 0.6459209678723716\n",
      "f1 Score: 0.44140131412686373\n",
      "LogLoss Score: 10.351893359158984\n",
      "Confusion matrix, without normalization\n",
      "[[68659  5436]\n",
      " [29930 13973]]\n"
     ]
    },
    {
     "data": {
      "image/png": "[encoded data removed]",
      "text/plain": [
       "<matplotlib.figure.Figure at 0x7f784a0c46d8>"
      ]
     },
     "metadata": {},
     "output_type": "display_data"
    }
   ],
   "source": [
    "roc_xgb = clf_eval(clf_xgb1, X_testcv, y_testcv)"
   ]
  },
  {
   "cell_type": "markdown",
   "metadata": {
    "collapsed": true
   },
   "source": [
    "#### Seleção de Features\n",
    "\n",
    "O LogLoss teve um resultado de 3.94, o que não é muito bom. Isso pode ter acontecido pelo excesso de features correlacionadas.\n",
    "Por exemplo, temos várias medidas de fuzzy, distância e skew. Para minimizar esses problemas, vamos analizar a correlação entre as features e selecionar a melhor combinação."
   ]
  },
  {
   "cell_type": "code",
   "execution_count": 37,
   "metadata": {},
   "outputs": [
    {
     "data": {
      "text/plain": [
       "<matplotlib.axes._subplots.AxesSubplot at 0x7f78486d5438>"
      ]
     },
     "execution_count": 37,
     "metadata": {},
     "output_type": "execute_result"
    },
    {
     "data": {
      "image/png": "[encoded data removed]",
      "text/plain": [
       "<matplotlib.figure.Figure at 0x7f7848692ef0>"
      ]
     },
     "metadata": {},
     "output_type": "display_data"
    }
   ],
   "source": [
    "corr = train_features.iloc[:, 3:].corr()\n",
    "# Generate a mask for the upper triangle\n",
    "mask = np.zeros_like(corr, dtype=np.bool)\n",
    "mask[np.triu_indices_from(mask)] = True\n",
    "\n",
    "# Set up the matplotlib figure\n",
    "f, ax = plt.subplots(figsize=(11, 9))\n",
    "\n",
    "# Generate a custom diverging colormap\n",
    "cmap = sns.diverging_palette(220, 10, as_cmap=True)\n",
    "\n",
    "# Draw the heatmap with the mask and correct aspect ratio\n",
    "sns.heatmap(corr, mask=mask, cmap=cmap, vmax=.3,\n",
    "            square=True, \n",
    "            linewidths=.5, cbar_kws={\"shrink\": .5}, ax=ax)"
   ]
  },
  {
   "cell_type": "markdown",
   "metadata": {},
   "source": [
    "Na matriz de correlação, procuramos as métricas menos correlacionadas, i.e. as em cinza. As escolhas mais óbvias são:\n",
    "\n",
    "- diff_len\n",
    "- commom_words\n",
    "- fuzzy_partial_token_set_ratio / fuzzy_partial_token_sort_ratio\n",
    "- jaccard_distance\n",
    "- skews\n",
    "- kurs"
   ]
  },
  {
   "cell_type": "code",
   "execution_count": 28,
   "metadata": {},
   "outputs": [
    {
     "name": "stderr",
     "output_type": "stream",
     "text": [
      "/usr/local/lib/python3.5/dist-packages/sklearn/utils/validation.py:429: DataConversionWarning: Data with input dtype object was converted to float64 by StandardScaler.\n",
      "  warnings.warn(msg, _DataConversionWarning)\n"
     ]
    },
    {
     "data": {
      "text/plain": [
       "(393325, 8)"
      ]
     },
     "execution_count": 28,
     "metadata": {},
     "output_type": "execute_result"
    }
   ],
   "source": [
    "X_train, y_train = normalize(train_features[['question1', 'question2', 'is_duplicate',\n",
    "                          'diff_len','common_words', 'fuzz_partial_token_set_ratio',\n",
    "                         'jaccard_distance', 'skew_q1vec', 'skew_q2vec', 'kur_q1vec',\n",
    "                           'kur_q2vec']])\n",
    "np.shape(X_train)"
   ]
  },
  {
   "cell_type": "code",
   "execution_count": 29,
   "metadata": {},
   "outputs": [
    {
     "name": "stdout",
     "output_type": "stream",
     "text": [
      "275327 117998 275327 117998\n"
     ]
    }
   ],
   "source": [
    "X_traincv, X_testcv, y_traincv, y_testcv = model_selection.train_test_split(X_train,\n",
    "                                                                            y_train,\n",
    "                                                                            test_size=0.3,\n",
    "                                                                            random_state=0)\n",
    "print(len(X_traincv), len(X_testcv), len(y_traincv), len(y_testcv))\n",
    "y_traincv = np.asarray(y_traincv, dtype=\"|S6\")"
   ]
  },
  {
   "cell_type": "code",
   "execution_count": 30,
   "metadata": {
    "collapsed": true
   },
   "outputs": [],
   "source": [
    "import xgboost\n",
    "\n",
    "clf_xgb2 = xgboost.sklearn.XGBClassifier(base_score=0.5,\n",
    "                                        learning_rate=0.1,\n",
    "                                        n_estimators=250,\n",
    "                                        max_delta_step=0,\n",
    "                                        max_depth=3,\n",
    "                                        min_child_weight=1,\n",
    "                                        missing=None,\n",
    "                                        gamma=0,\n",
    "                                        subsample=1,\n",
    "                                        colsample_bylevel=1,\n",
    "                                        colsample_bytree=1,\n",
    "                                        objective= 'binary:logitraw',\n",
    "                                        #objective='multi:softprob',\n",
    "                                        reg_alpha=0, \n",
    "                                        reg_lambda=1,\n",
    "                                        nthread=-1,\n",
    "                                        scale_pos_weight=1,\n",
    "                                        seed=0,\n",
    "                                        silent=False,).fit(X_traincv, y_traincv)"
   ]
  },
  {
   "cell_type": "code",
   "execution_count": 31,
   "metadata": {},
   "outputs": [
    {
     "name": "stdout",
     "output_type": "stream",
     "text": [
      "LogLoss Score: 6.0288627082241035\n",
      "Classification Report\n",
      "               precision    recall  f1-score   support\n",
      "\n",
      "Não Repetidas       0.64      0.97      0.78     74095\n",
      "    Repetidas       0.69      0.09      0.16     43903\n",
      "\n",
      "  avg / total       0.66      0.65      0.55    117998\n",
      "\n",
      "ROC Score: 0.5337893425423015\n",
      "Accuracy Score: 0.6466550280513229\n",
      "Average Precision Score: 0.5582756623319481\n",
      "f1 Score: 0.16330871729009475\n",
      "Confusion matrix, without normalization\n",
      "[[72235  1860]\n",
      " [39834  4069]]\n"
     ]
    },
    {
     "data": {
      "image/png": "[encoded data removed]",
      "text/plain": [
       "<matplotlib.figure.Figure at 0x7fd7ebd94240>"
      ]
     },
     "metadata": {},
     "output_type": "display_data"
    }
   ],
   "source": [
    "a = clf_xgb2.predict_proba(X_testcv)\n",
    "print('LogLoss Score: {}'.format(log_loss(list(y_testcv), a)))\n",
    "roc_xgb = clf_eval(clf_xgb2, X_testcv, y_testcv)"
   ]
  },
  {
   "cell_type": "markdown",
   "metadata": {},
   "source": [
    "Aparentemente não foi um sucesso. O logloss aumentou o que indica que algo deve ser mudado. \n",
    "\n",
    "Analisando os notebooks do Kaggle, encontro um XGBoost que consegue 0.35 só com TF-IDF e sem normalizar. Ele balanceia as amostras positivas dele porque o test set tem menos respostas positivas que negativas. Também implementa o xgboost de uma maneira diferente. \n",
    "\n",
    "Tentaremos implementar as diferenças.\n",
    "\n",
    "https://www.kaggle.com/anokas/data-analysis-xgboost-starter-0-35460-lb"
   ]
  },
  {
   "cell_type": "code",
   "execution_count": 44,
   "metadata": {},
   "outputs": [
    {
     "name": "stderr",
     "output_type": "stream",
     "text": [
      "/usr/local/lib/python3.5/dist-packages/sklearn/utils/validation.py:429: DataConversionWarning: Data with input dtype object was converted to float64 by StandardScaler.\n",
      "  warnings.warn(msg, _DataConversionWarning)\n"
     ]
    }
   ],
   "source": [
    "x_train, y_train = normalize(train_features)\n",
    "x_train = pd.DataFrame(x_train)\n",
    "y_train = pd.DataFrame(y_train)"
   ]
  },
  {
   "cell_type": "code",
   "execution_count": 46,
   "metadata": {},
   "outputs": [
    {
     "name": "stdout",
     "output_type": "stream",
     "text": [
      "0.19526634562875442\n"
     ]
    }
   ],
   "source": [
    "def equalize(x_train, y_train):\n",
    "\n",
    "    pos_train = x_train[y_train == 1]\n",
    "    neg_train = x_train[y_train == 0]\n",
    "\n",
    "    # Now we oversample the negative class\n",
    "    # There is likely a much more elegant way to do this...\n",
    "    p = 0.165\n",
    "    scale = ((len(pos_train) / (len(pos_train) + len(neg_train))) / p) - 1\n",
    "    while scale > 1:\n",
    "        neg_train = pd.concat([neg_train, neg_train])\n",
    "        scale -=1\n",
    "    neg_train = pd.concat([neg_train, neg_train[:int(scale * len(neg_train))]])\n",
    "    print(len(pos_train) / (len(pos_train) + len(neg_train)))\n",
    "\n",
    "    x_train = pd.concat([pos_train, neg_train])\n",
    "    y_train = (np.zeros(len(pos_train)) + 1).tolist() + np.zeros(len(neg_train)).tolist()\n",
    "    del pos_train, neg_train\n",
    "    return x_train, y_train\n",
    "x_train, y_train = equalize(x_train, y_train)"
   ]
  },
  {
   "cell_type": "code",
   "execution_count": 40,
   "metadata": {
    "collapsed": true
   },
   "outputs": [],
   "source": [
    "x_train, x_valid, y_train, y_valid = train_test_split(x_train, y_train, test_size=0.2, random_state=4242)"
   ]
  },
  {
   "cell_type": "code",
   "execution_count": 41,
   "metadata": {},
   "outputs": [
    {
     "name": "stdout",
     "output_type": "stream",
     "text": [
      "[0]\ttrain-logloss:0.685192\tvalid-logloss:0.685205\n",
      "Multiple eval metrics have been passed: 'valid-logloss' will be used for early stopping.\n",
      "\n",
      "Will train until valid-logloss hasn't improved in 50 rounds.\n",
      "[10]\ttrain-logloss:0.620639\tvalid-logloss:0.62077\n",
      "[20]\ttrain-logloss:0.576143\tvalid-logloss:0.576366\n",
      "[30]\ttrain-logloss:0.544892\tvalid-logloss:0.545191\n",
      "[40]\ttrain-logloss:0.522711\tvalid-logloss:0.523073\n",
      "[50]\ttrain-logloss:0.506883\tvalid-logloss:0.507297\n",
      "[60]\ttrain-logloss:0.495566\tvalid-logloss:0.496022\n",
      "[70]\ttrain-logloss:0.487477\tvalid-logloss:0.48797\n",
      "[80]\ttrain-logloss:0.481705\tvalid-logloss:0.482227\n",
      "[90]\ttrain-logloss:0.477589\tvalid-logloss:0.478133\n",
      "[100]\ttrain-logloss:0.474671\tvalid-logloss:0.475233\n",
      "[110]\ttrain-logloss:0.472612\tvalid-logloss:0.473189\n",
      "[120]\ttrain-logloss:0.471164\tvalid-logloss:0.471753\n",
      "[130]\ttrain-logloss:0.470149\tvalid-logloss:0.470749\n",
      "[140]\ttrain-logloss:0.469442\tvalid-logloss:0.47005\n",
      "[150]\ttrain-logloss:0.46895\tvalid-logloss:0.469565\n",
      "[160]\ttrain-logloss:0.468608\tvalid-logloss:0.469229\n",
      "[170]\ttrain-logloss:0.468371\tvalid-logloss:0.468998\n",
      "[180]\ttrain-logloss:0.468208\tvalid-logloss:0.46884\n",
      "[190]\ttrain-logloss:0.468095\tvalid-logloss:0.468731\n",
      "[200]\ttrain-logloss:0.468017\tvalid-logloss:0.468655\n",
      "[210]\ttrain-logloss:0.467961\tvalid-logloss:0.468602\n",
      "[220]\ttrain-logloss:0.467923\tvalid-logloss:0.468566\n",
      "[230]\ttrain-logloss:0.467895\tvalid-logloss:0.46854\n",
      "[240]\ttrain-logloss:0.467873\tvalid-logloss:0.468521\n",
      "[250]\ttrain-logloss:0.467856\tvalid-logloss:0.468506\n",
      "[260]\ttrain-logloss:0.467842\tvalid-logloss:0.468495\n",
      "[270]\ttrain-logloss:0.467833\tvalid-logloss:0.468487\n",
      "[280]\ttrain-logloss:0.467825\tvalid-logloss:0.468482\n",
      "[290]\ttrain-logloss:0.467819\tvalid-logloss:0.468478\n",
      "[300]\ttrain-logloss:0.467813\tvalid-logloss:0.468475\n",
      "[310]\ttrain-logloss:0.467808\tvalid-logloss:0.468472\n",
      "[320]\ttrain-logloss:0.467804\tvalid-logloss:0.46847\n",
      "[330]\ttrain-logloss:0.4678\tvalid-logloss:0.468467\n",
      "[340]\ttrain-logloss:0.467798\tvalid-logloss:0.468465\n",
      "[350]\ttrain-logloss:0.467794\tvalid-logloss:0.468463\n",
      "[360]\ttrain-logloss:0.467791\tvalid-logloss:0.46846\n",
      "[370]\ttrain-logloss:0.46779\tvalid-logloss:0.468459\n",
      "[380]\ttrain-logloss:0.467788\tvalid-logloss:0.468458\n",
      "[390]\ttrain-logloss:0.467786\tvalid-logloss:0.468457\n"
     ]
    }
   ],
   "source": [
    "# Set our parameters for xgboost\n",
    "params = {}\n",
    "params['objective'] = 'binary:logistic'\n",
    "params['eval_metric'] = 'logloss'\n",
    "params['eta'] = 0.02\n",
    "params['max_depth'] = 4\n",
    "\n",
    "d_train = xgb.DMatrix(x_train, label=y_train)\n",
    "d_valid = xgb.DMatrix(x_valid, label=y_valid)\n",
    "\n",
    "watchlist = [(d_train, 'train'), (d_valid, 'valid')]\n",
    "\n",
    "bst = xgb.train(params, d_train, 400, watchlist, early_stopping_rounds=50, verbose_eval=10)"
   ]
  },
  {
   "cell_type": "markdown",
   "metadata": {},
   "source": [
    "Parece que temos uma melhora!\n",
    "\n",
    "LogLoss foi pra 0.46, se continuarmos nesse ritmo, extrapolando linearmente teremos logloss=-5.08. \n",
    "\n",
    "Agora sério, esse teste foi com todas as features. Vamos tentar usar as features não correlacionadas para ver se temos melhora."
   ]
  },
  {
   "cell_type": "code",
   "execution_count": 52,
   "metadata": {},
   "outputs": [
    {
     "name": "stderr",
     "output_type": "stream",
     "text": [
      "/usr/local/lib/python3.5/dist-packages/sklearn/utils/validation.py:429: DataConversionWarning: Data with input dtype object was converted to float64 by StandardScaler.\n",
      "  warnings.warn(msg, _DataConversionWarning)\n"
     ]
    },
    {
     "name": "stdout",
     "output_type": "stream",
     "text": [
      "0.19526634562875442\n"
     ]
    }
   ],
   "source": [
    "x_train, y_train = normalize(train_features[['question1', 'question2', 'is_duplicate',\n",
    "                          'diff_len','common_words', 'fuzz_partial_token_set_ratio',\n",
    "                         'jaccard_distance', 'skew_q1vec', 'skew_q2vec', 'kur_q1vec',\n",
    "                           'kur_q2vec']])\n",
    "x_train = pd.DataFrame(x_train)\n",
    "y_train = pd.DataFrame(y_train)\n",
    "\n",
    "x_train, y_train = equalize(x_train, y_train)"
   ]
  },
  {
   "cell_type": "code",
   "execution_count": 53,
   "metadata": {
    "collapsed": true
   },
   "outputs": [],
   "source": [
    "x_train, x_valid, y_train, y_valid = train_test_split(x_train, y_train, test_size=0.2, random_state=4242)"
   ]
  },
  {
   "cell_type": "code",
   "execution_count": 55,
   "metadata": {},
   "outputs": [
    {
     "name": "stdout",
     "output_type": "stream",
     "text": [
      "[0]\ttrain-logloss:0.685176\tvalid-logloss:0.685188\n",
      "Multiple eval metrics have been passed: 'valid-logloss' will be used for early stopping.\n",
      "\n",
      "Will train until valid-logloss hasn't improved in 50 rounds.\n",
      "[10]\ttrain-logloss:0.62047\tvalid-logloss:0.620588\n",
      "[20]\ttrain-logloss:0.575831\tvalid-logloss:0.576039\n",
      "[30]\ttrain-logloss:0.54444\tvalid-logloss:0.544727\n",
      "[40]\ttrain-logloss:0.522108\tvalid-logloss:0.522464\n",
      "[50]\ttrain-logloss:0.506128\tvalid-logloss:0.506545\n",
      "[60]\ttrain-logloss:0.494648\tvalid-logloss:0.495118\n",
      "[70]\ttrain-logloss:0.4864\tvalid-logloss:0.486916\n",
      "[80]\ttrain-logloss:0.480463\tvalid-logloss:0.481018\n",
      "[90]\ttrain-logloss:0.47621\tvalid-logloss:0.476801\n",
      "[100]\ttrain-logloss:0.47315\tvalid-logloss:0.473771\n",
      "[110]\ttrain-logloss:0.470945\tvalid-logloss:0.471591\n",
      "[120]\ttrain-logloss:0.469369\tvalid-logloss:0.470036\n",
      "[130]\ttrain-logloss:0.468232\tvalid-logloss:0.468917\n",
      "[140]\ttrain-logloss:0.467428\tvalid-logloss:0.468128\n",
      "[150]\ttrain-logloss:0.46684\tvalid-logloss:0.467555\n",
      "[160]\ttrain-logloss:0.466396\tvalid-logloss:0.467122\n",
      "[170]\ttrain-logloss:0.46608\tvalid-logloss:0.466817\n",
      "[180]\ttrain-logloss:0.465857\tvalid-logloss:0.466604\n",
      "[190]\ttrain-logloss:0.4657\tvalid-logloss:0.466454\n",
      "[200]\ttrain-logloss:0.465589\tvalid-logloss:0.466351\n",
      "[210]\ttrain-logloss:0.46551\tvalid-logloss:0.466278\n",
      "[220]\ttrain-logloss:0.465454\tvalid-logloss:0.466228\n",
      "[230]\ttrain-logloss:0.465415\tvalid-logloss:0.466193\n",
      "[240]\ttrain-logloss:0.465387\tvalid-logloss:0.46617\n",
      "[250]\ttrain-logloss:0.46536\tvalid-logloss:0.466145\n",
      "[260]\ttrain-logloss:0.465337\tvalid-logloss:0.466123\n",
      "[270]\ttrain-logloss:0.465324\tvalid-logloss:0.466114\n",
      "[280]\ttrain-logloss:0.46531\tvalid-logloss:0.466101\n",
      "[290]\ttrain-logloss:0.465298\tvalid-logloss:0.466089\n",
      "[300]\ttrain-logloss:0.465289\tvalid-logloss:0.466082\n",
      "[310]\ttrain-logloss:0.465279\tvalid-logloss:0.466072\n",
      "[320]\ttrain-logloss:0.465273\tvalid-logloss:0.466067\n",
      "[330]\ttrain-logloss:0.465267\tvalid-logloss:0.466062\n",
      "[340]\ttrain-logloss:0.465263\tvalid-logloss:0.466058\n",
      "[350]\ttrain-logloss:0.465259\tvalid-logloss:0.466056\n",
      "[360]\ttrain-logloss:0.465256\tvalid-logloss:0.466054\n",
      "[370]\ttrain-logloss:0.465254\tvalid-logloss:0.466053\n",
      "[380]\ttrain-logloss:0.465252\tvalid-logloss:0.466052\n",
      "[390]\ttrain-logloss:0.465251\tvalid-logloss:0.466052\n"
     ]
    }
   ],
   "source": [
    "# Set our parameters for xgboost\n",
    "params = {}\n",
    "params['objective'] = 'binary:logistic'\n",
    "params['eval_metric'] = 'logloss'\n",
    "params['eta'] = 0.02\n",
    "params['max_depth'] = 4\n",
    "\n",
    "d_train = xgb.DMatrix(x_train, label=y_train)\n",
    "d_valid = xgb.DMatrix(x_valid, label=y_valid)\n",
    "\n",
    "watchlist = [(d_train, 'train'), (d_valid, 'valid')]\n",
    "\n",
    "bst = xgb.train(params, d_train, 400, watchlist, early_stopping_rounds=50, verbose_eval=10)"
   ]
  },
  {
   "cell_type": "code",
   "execution_count": 61,
   "metadata": {},
   "outputs": [
    {
     "name": "stdout",
     "output_type": "stream",
     "text": [
      "LogLoss Score: 0.46605083155858595\n"
     ]
    }
   ],
   "source": [
    "d_test = xgb.DMatrix(x_valid)\n",
    "a = bst.predict(d_test)\n",
    "print('LogLoss Score: {}'.format(log_loss(list(y_valid), a)))"
   ]
  },
  {
   "cell_type": "code",
   "execution_count": 74,
   "metadata": {},
   "outputs": [
    {
     "name": "stdout",
     "output_type": "stream",
     "text": [
      "Classification Report\n",
      "                precision    recall  f1-score   support\n",
      "\n",
      "Non Duplicated       0.80      1.00      0.89    324023\n",
      "    Duplicated       0.00      0.00      0.00     78837\n",
      "\n",
      "   avg / total       0.65      0.80      0.72    402860\n",
      "\n"
     ]
    },
    {
     "name": "stderr",
     "output_type": "stream",
     "text": [
      "/usr/local/lib/python3.5/dist-packages/sklearn/metrics/classification.py:1113: UndefinedMetricWarning: Precision and F-score are ill-defined and being set to 0.0 in labels with no predicted samples.\n",
      "  'precision', 'predicted', average, warn_for)\n"
     ]
    },
    {
     "name": "stdout",
     "output_type": "stream",
     "text": [
      "ROC Score: 0.5\n",
      "Accuracy Score: 0.8043067070446309\n",
      "Average Precision Score: 0.5978466464776846\n"
     ]
    },
    {
     "name": "stderr",
     "output_type": "stream",
     "text": [
      "/usr/local/lib/python3.5/dist-packages/sklearn/metrics/classification.py:1113: UndefinedMetricWarning: F-score is ill-defined and being set to 0.0 due to no predicted samples.\n",
      "  'precision', 'predicted', average, warn_for)\n"
     ]
    },
    {
     "name": "stdout",
     "output_type": "stream",
     "text": [
      "f1 Score: 0.0\n",
      "Confusion matrix, without normalization\n",
      "[[324023      0]\n",
      " [ 78837      0]]\n"
     ]
    },
    {
     "data": {
      "image/png": "[encoded data removed]",
      "text/plain": [
       "<matplotlib.figure.Figure at 0x7fd801ac39b0>"
      ]
     },
     "metadata": {},
     "output_type": "display_data"
    }
   ],
   "source": [
    "roc_xgb = clf_eval(bst, d_test, y_valid)"
   ]
  },
  {
   "cell_type": "code",
   "execution_count": 72,
   "metadata": {},
   "outputs": [
    {
     "data": {
      "text/plain": [
       "0"
      ]
     },
     "execution_count": 72,
     "metadata": {},
     "output_type": "execute_result"
    }
   ],
   "source": [
    "a = pd.Series(bst.predict(d_test))\n",
    "len(a[a > 0.5])"
   ]
  },
  {
   "cell_type": "markdown",
   "metadata": {},
   "source": [
    "Houston, we got a problem!\n",
    "\n",
    "Realmente essa matriz confusão não era o que esperavamos. O modelo simplesmente não diz que nenhuma das questões é duplicada. Isso e fazer um modelo que só retorna 0 é a mesma coisa. \n",
    "\n",
    "O problema pode ser:\n",
    "- A equalização de proporção de respostas certas e erradas\n",
    "- A normalização das features\n",
    "- O instanciamento do modelo\n",
    "- As features\n",
    "\n",
    "Em suma, qualquer coisa. Vamos começar do primeiro tópico"
   ]
  },
  {
   "cell_type": "code",
   "execution_count": 92,
   "metadata": {},
   "outputs": [
    {
     "name": "stderr",
     "output_type": "stream",
     "text": [
      "/usr/local/lib/python3.5/dist-packages/sklearn/utils/validation.py:429: DataConversionWarning: Data with input dtype object was converted to float64 by StandardScaler.\n",
      "  warnings.warn(msg, _DataConversionWarning)\n"
     ]
    }
   ],
   "source": [
    "x_train, y_train = normalize(train_features[['question1', 'question2', 'is_duplicate',\n",
    "                          'diff_len','common_words', 'fuzz_partial_token_set_ratio',\n",
    "                         'jaccard_distance', 'skew_q1vec', 'skew_q2vec', 'kur_q1vec',\n",
    "                           'kur_q2vec']])"
   ]
  },
  {
   "cell_type": "code",
   "execution_count": 93,
   "metadata": {
    "collapsed": true
   },
   "outputs": [],
   "source": [
    "x_train, x_valid, y_train, y_valid = train_test_split(x_train, y_train, test_size=0.2, random_state=4242)"
   ]
  },
  {
   "cell_type": "code",
   "execution_count": 94,
   "metadata": {},
   "outputs": [
    {
     "name": "stdout",
     "output_type": "stream",
     "text": [
      "[0]\ttrain-logloss:0.689135\tvalid-logloss:0.68911\n",
      "Multiple eval metrics have been passed: 'valid-logloss' will be used for early stopping.\n",
      "\n",
      "Will train until valid-logloss hasn't improved in 50 rounds.\n",
      "[10]\ttrain-logloss:0.656359\tvalid-logloss:0.656069\n",
      "[20]\ttrain-logloss:0.633043\tvalid-logloss:0.63259\n",
      "[30]\ttrain-logloss:0.615777\tvalid-logloss:0.615213\n",
      "[40]\ttrain-logloss:0.602835\tvalid-logloss:0.602224\n",
      "[50]\ttrain-logloss:0.592906\tvalid-logloss:0.592265\n",
      "[60]\ttrain-logloss:0.585349\tvalid-logloss:0.584643\n",
      "[70]\ttrain-logloss:0.579387\tvalid-logloss:0.578658\n",
      "[80]\ttrain-logloss:0.574628\tvalid-logloss:0.573904\n",
      "[90]\ttrain-logloss:0.57094\tvalid-logloss:0.570228\n",
      "[100]\ttrain-logloss:0.56802\tvalid-logloss:0.567344\n",
      "[110]\ttrain-logloss:0.565637\tvalid-logloss:0.564995\n",
      "[120]\ttrain-logloss:0.563727\tvalid-logloss:0.563117\n",
      "[130]\ttrain-logloss:0.562118\tvalid-logloss:0.561539\n",
      "[140]\ttrain-logloss:0.56081\tvalid-logloss:0.560252\n",
      "[150]\ttrain-logloss:0.55965\tvalid-logloss:0.559114\n",
      "[160]\ttrain-logloss:0.558721\tvalid-logloss:0.558203\n",
      "[170]\ttrain-logloss:0.557941\tvalid-logloss:0.557448\n",
      "[180]\ttrain-logloss:0.557367\tvalid-logloss:0.556882\n",
      "[190]\ttrain-logloss:0.556753\tvalid-logloss:0.556278\n",
      "[200]\ttrain-logloss:0.556244\tvalid-logloss:0.555794\n",
      "[210]\ttrain-logloss:0.555783\tvalid-logloss:0.55537\n",
      "[220]\ttrain-logloss:0.555315\tvalid-logloss:0.554932\n",
      "[230]\ttrain-logloss:0.554946\tvalid-logloss:0.554587\n",
      "[240]\ttrain-logloss:0.554613\tvalid-logloss:0.554274\n",
      "[250]\ttrain-logloss:0.554293\tvalid-logloss:0.553961\n",
      "[260]\ttrain-logloss:0.553916\tvalid-logloss:0.55361\n",
      "[270]\ttrain-logloss:0.55361\tvalid-logloss:0.553323\n",
      "[280]\ttrain-logloss:0.553319\tvalid-logloss:0.553074\n",
      "[290]\ttrain-logloss:0.553083\tvalid-logloss:0.552872\n",
      "[300]\ttrain-logloss:0.552881\tvalid-logloss:0.552693\n",
      "[310]\ttrain-logloss:0.552624\tvalid-logloss:0.552471\n",
      "[320]\ttrain-logloss:0.552351\tvalid-logloss:0.552252\n",
      "[330]\ttrain-logloss:0.552122\tvalid-logloss:0.552054\n",
      "[340]\ttrain-logloss:0.551923\tvalid-logloss:0.551883\n",
      "[350]\ttrain-logloss:0.551704\tvalid-logloss:0.551714\n",
      "[360]\ttrain-logloss:0.551497\tvalid-logloss:0.551533\n",
      "[370]\ttrain-logloss:0.551275\tvalid-logloss:0.551345\n",
      "[380]\ttrain-logloss:0.55112\tvalid-logloss:0.55123\n",
      "[390]\ttrain-logloss:0.550934\tvalid-logloss:0.551063\n"
     ]
    }
   ],
   "source": [
    "# Set our parameters for xgboost\n",
    "params = {}\n",
    "params['objective'] = 'binary:logistic'\n",
    "params['eval_metric'] = 'logloss'\n",
    "params['eta'] = 0.02\n",
    "params['max_depth'] = 4\n",
    "\n",
    "d_train = xgb.DMatrix(x_train, label=y_train)\n",
    "d_valid = xgb.DMatrix(x_valid, label=y_valid)\n",
    "\n",
    "watchlist = [(d_train, 'train'), (d_valid, 'valid')]\n",
    "\n",
    "bst = xgb.train(params, d_train, 400, watchlist, early_stopping_rounds=50, verbose_eval=10)"
   ]
  },
  {
   "cell_type": "code",
   "execution_count": 96,
   "metadata": {},
   "outputs": [
    {
     "name": "stdout",
     "output_type": "stream",
     "text": [
      "Classification Report\n",
      "                precision    recall  f1-score   support\n",
      "\n",
      "Non Duplicated       0.63      1.00      0.77     49371\n",
      "    Duplicated       0.00      0.00      0.00     29294\n",
      "\n",
      "   avg / total       0.39      0.63      0.48     78665\n",
      "\n",
      "ROC Score: 0.5\n",
      "Accuracy Score: 0.6276107544651369\n",
      "Average Precision Score: 0.6861946227674315\n"
     ]
    },
    {
     "name": "stderr",
     "output_type": "stream",
     "text": [
      "/usr/local/lib/python3.5/dist-packages/sklearn/metrics/classification.py:1113: UndefinedMetricWarning: Precision and F-score are ill-defined and being set to 0.0 in labels with no predicted samples.\n",
      "  'precision', 'predicted', average, warn_for)\n",
      "/usr/local/lib/python3.5/dist-packages/sklearn/metrics/classification.py:1113: UndefinedMetricWarning: F-score is ill-defined and being set to 0.0 due to no predicted samples.\n",
      "  'precision', 'predicted', average, warn_for)\n",
      "Exception ignored in: <bound method DMatrix.__del__ of <xgboost.core.DMatrix object at 0x7fd7ceeea470>>\n",
      "Traceback (most recent call last):\n",
      "  File \"/usr/local/lib/python3.5/dist-packages/xgboost/core.py\", line 324, in __del__\n",
      "    _check_call(_LIB.XGDMatrixFree(self.handle))\n",
      "AttributeError: 'DMatrix' object has no attribute 'handle'\n"
     ]
    },
    {
     "name": "stdout",
     "output_type": "stream",
     "text": [
      "f1 Score: 0.0\n",
      "Confusion matrix, without normalization\n",
      "[[49371     0]\n",
      " [29294     0]]\n"
     ]
    },
    {
     "data": {
      "image/png": "[encoded data removed]",
      "text/plain": [
       "<matplotlib.figure.Figure at 0x7fd7e9ab76a0>"
      ]
     },
     "metadata": {},
     "output_type": "display_data"
    }
   ],
   "source": [
    "d_test = xgb.DMatrix(x_valid)\n",
    "a = bst.predict(d_test)\n",
    "roc_xgb = clf_eval(bst, d_test, y_valid)"
   ]
  },
  {
   "cell_type": "markdown",
   "metadata": {},
   "source": [
    "Bom, parece que o problema é grave mesmo. Vamos recorrer à literatura.\n",
    "\n",
    "Alguns artigos interessantes:\n",
    "    http://xgboost.readthedocs.io/en/latest/model.html\n",
    "    \n",
    "    http://xgboost.readthedocs.io/en/latest/how_to/param_tuning.html\n",
    "    \n",
    "    http://xgboost.readthedocs.io/en/latest/parameter.html\n",
    "    \n",
    "    https://www.analyticsvidhya.com/blog/2017/03/imbalanced-classification-problem/\n",
    "    \n",
    "    https://www.quora.com/In-classification-how-do-you-handle-an-unbalanced-training-set#!n=18"
   ]
  },
  {
   "cell_type": "markdown",
   "metadata": {
    "collapsed": true
   },
   "source": [
    "Parece que o modelo está muito genérico. Isso pode ser devido ao baixo eta(learning_rate). Vou aumentar em uma ordem de grandeza para ver o resultado."
   ]
  },
  {
   "cell_type": "code",
   "execution_count": 14,
   "metadata": {},
   "outputs": [
    {
     "name": "stderr",
     "output_type": "stream",
     "text": [
      "/usr/local/lib/python3.5/dist-packages/sklearn/utils/validation.py:429: DataConversionWarning: Data with input dtype object was converted to float64 by StandardScaler.\n",
      "  warnings.warn(msg, _DataConversionWarning)\n"
     ]
    },
    {
     "name": "stdout",
     "output_type": "stream",
     "text": [
      "[0]\ttrain-logloss:0.654147\tvalid-logloss:0.654054\n",
      "Multiple eval metrics have been passed: 'valid-logloss' will be used for early stopping.\n",
      "\n",
      "Will train until valid-logloss hasn't improved in 50 rounds.\n",
      "[10]\ttrain-logloss:0.559623\tvalid-logloss:0.55976\n",
      "[20]\ttrain-logloss:0.550196\tvalid-logloss:0.55111\n",
      "[30]\ttrain-logloss:0.546462\tvalid-logloss:0.548236\n",
      "[40]\ttrain-logloss:0.543681\tvalid-logloss:0.546396\n",
      "[50]\ttrain-logloss:0.540769\tvalid-logloss:0.54467\n",
      "[60]\ttrain-logloss:0.538394\tvalid-logloss:0.543245\n",
      "[70]\ttrain-logloss:0.536159\tvalid-logloss:0.541928\n",
      "[80]\ttrain-logloss:0.534359\tvalid-logloss:0.540962\n",
      "[90]\ttrain-logloss:0.531995\tvalid-logloss:0.539738\n",
      "[100]\ttrain-logloss:0.529336\tvalid-logloss:0.538454\n",
      "[110]\ttrain-logloss:0.527518\tvalid-logloss:0.537461\n",
      "[120]\ttrain-logloss:0.525975\tvalid-logloss:0.536676\n",
      "[130]\ttrain-logloss:0.524203\tvalid-logloss:0.535845\n",
      "[140]\ttrain-logloss:0.522887\tvalid-logloss:0.535194\n",
      "[150]\ttrain-logloss:0.520491\tvalid-logloss:0.534076\n",
      "[160]\ttrain-logloss:0.518446\tvalid-logloss:0.532988\n",
      "[170]\ttrain-logloss:0.516876\tvalid-logloss:0.532242\n",
      "[180]\ttrain-logloss:0.515445\tvalid-logloss:0.531481\n",
      "[190]\ttrain-logloss:0.514417\tvalid-logloss:0.530949\n",
      "[200]\ttrain-logloss:0.512613\tvalid-logloss:0.530101\n",
      "[210]\ttrain-logloss:0.511513\tvalid-logloss:0.529582\n",
      "[220]\ttrain-logloss:0.510344\tvalid-logloss:0.529157\n",
      "[230]\ttrain-logloss:0.508605\tvalid-logloss:0.528355\n",
      "[240]\ttrain-logloss:0.506882\tvalid-logloss:0.5277\n",
      "[250]\ttrain-logloss:0.505438\tvalid-logloss:0.527192\n",
      "[260]\ttrain-logloss:0.504394\tvalid-logloss:0.526869\n",
      "[270]\ttrain-logloss:0.502705\tvalid-logloss:0.526278\n",
      "[280]\ttrain-logloss:0.50179\tvalid-logloss:0.525888\n",
      "[290]\ttrain-logloss:0.500521\tvalid-logloss:0.525529\n",
      "[300]\ttrain-logloss:0.499495\tvalid-logloss:0.525238\n",
      "[310]\ttrain-logloss:0.498922\tvalid-logloss:0.525019\n",
      "[320]\ttrain-logloss:0.497092\tvalid-logloss:0.524146\n",
      "[330]\ttrain-logloss:0.495441\tvalid-logloss:0.523443\n",
      "[340]\ttrain-logloss:0.494213\tvalid-logloss:0.522874\n",
      "[350]\ttrain-logloss:0.493663\tvalid-logloss:0.522675\n",
      "[360]\ttrain-logloss:0.492577\tvalid-logloss:0.522161\n",
      "[370]\ttrain-logloss:0.491095\tvalid-logloss:0.521552\n",
      "[380]\ttrain-logloss:0.489703\tvalid-logloss:0.520952\n",
      "[390]\ttrain-logloss:0.489284\tvalid-logloss:0.520819\n"
     ]
    }
   ],
   "source": [
    "x_train, y_train = normalize(train_features[['question1', 'question2', 'is_duplicate',\n",
    "                          'diff_len','common_words', 'fuzz_partial_token_set_ratio',\n",
    "                         'jaccard_distance', 'skew_q1vec', 'skew_q2vec', 'kur_q1vec',\n",
    "                           'kur_q2vec']])\n",
    "\n",
    "x_train, x_valid, y_train, y_valid = train_test_split(x_train, y_train, test_size=0.2, random_state=4242)\n",
    "\n",
    "params = {}\n",
    "params['objective'] = 'binary:logistic'\n",
    "params['eval_metric'] = 'logloss'\n",
    "params['eta'] = 0.2\n",
    "params['max_depth'] = 6\n",
    "\n",
    "d_train = xgb.DMatrix(x_train, label=y_train)\n",
    "d_valid = xgb.DMatrix(x_valid, label=y_valid)\n",
    "\n",
    "watchlist = [(d_train, 'train'), (d_valid, 'valid')]\n",
    "\n",
    "bst = xgb.train(params, d_train, 400, watchlist, early_stopping_rounds=50, verbose_eval=10)"
   ]
  },
  {
   "cell_type": "code",
   "execution_count": 19,
   "metadata": {
    "scrolled": true
   },
   "outputs": [
    {
     "name": "stdout",
     "output_type": "stream",
     "text": [
      "Classification Report\n",
      "                precision    recall  f1-score   support\n",
      "\n",
      "Non Duplicated       0.63      1.00      0.77     49371\n",
      "    Duplicated       0.00      0.00      0.00     29294\n",
      "\n",
      "   avg / total       0.39      0.63      0.48     78665\n",
      "\n",
      "ROC Score: 0.5\n",
      "Accuracy Score: 0.6276107544651369\n",
      "Average Precision Score: 0.6861946227674315\n"
     ]
    },
    {
     "name": "stderr",
     "output_type": "stream",
     "text": [
      "/usr/local/lib/python3.5/dist-packages/sklearn/metrics/classification.py:1113: UndefinedMetricWarning: Precision and F-score are ill-defined and being set to 0.0 in labels with no predicted samples.\n",
      "  'precision', 'predicted', average, warn_for)\n",
      "/usr/local/lib/python3.5/dist-packages/sklearn/metrics/classification.py:1113: UndefinedMetricWarning: F-score is ill-defined and being set to 0.0 due to no predicted samples.\n",
      "  'precision', 'predicted', average, warn_for)\n"
     ]
    },
    {
     "name": "stdout",
     "output_type": "stream",
     "text": [
      "f1 Score: 0.0\n",
      "Confusion matrix, without normalization\n",
      "[[49371     0]\n",
      " [29294     0]]\n"
     ]
    },
    {
     "data": {
      "image/png": "[encoded data removed]",
      "text/plain": [
       "<matplotlib.figure.Figure at 0x7fa2047d8400>"
      ]
     },
     "metadata": {},
     "output_type": "display_data"
    }
   ],
   "source": [
    "d_test = xgb.DMatrix(x_valid)\n",
    "a = bst.predict(d_test)\n",
    "roc_xgb = clf_eval(bst, d_test, y_valid)"
   ]
  },
  {
   "cell_type": "markdown",
   "metadata": {},
   "source": [
    "### LOGIT"
   ]
  },
  {
   "cell_type": "code",
   "execution_count": 30,
   "metadata": {},
   "outputs": [
    {
     "name": "stderr",
     "output_type": "stream",
     "text": [
      "/usr/local/lib/python3.5/dist-packages/sklearn/utils/validation.py:429: DataConversionWarning: Data with input dtype object was converted to float64 by StandardScaler.\n",
      "  warnings.warn(msg, _DataConversionWarning)\n"
     ]
    }
   ],
   "source": [
    "x_train, y_train = normalize(train_features[['question1', 'question2', 'is_duplicate',\n",
    "                          'diff_len','common_words', 'fuzz_partial_token_set_ratio',\n",
    "                         'jaccard_distance', 'skew_q1vec', 'skew_q2vec', 'kur_q1vec',\n",
    "                           'kur_q2vec']])\n",
    "\n",
    "x_train, x_valid, y_train, y_valid = train_test_split(x_train, y_train, test_size=0.2, random_state=4242)"
   ]
  },
  {
   "cell_type": "code",
   "execution_count": 32,
   "metadata": {
    "collapsed": true
   },
   "outputs": [],
   "source": [
    "y_train = np.asarray(y_train, dtype=\"|S6\")"
   ]
  },
  {
   "cell_type": "code",
   "execution_count": 33,
   "metadata": {},
   "outputs": [],
   "source": [
    "from sklearn.linear_model import LogisticRegression as LR\n",
    "\n",
    "LR_tf = LR(penalty='l2',\n",
    "               dual=False,\n",
    "               tol=0.0001,\n",
    "               C=1.0,\n",
    "               fit_intercept=True,\n",
    "               intercept_scaling=1,\n",
    "               class_weight=None,\n",
    "               random_state=0,\n",
    "               solver='liblinear',\n",
    "               max_iter=100,\n",
    "               multi_class='ovr',\n",
    "               verbose=0).fit(x_train, y_train)"
   ]
  },
  {
   "cell_type": "code",
   "execution_count": 36,
   "metadata": {},
   "outputs": [
    {
     "name": "stdout",
     "output_type": "stream",
     "text": [
      "Classification Report\n",
      "                precision    recall  f1-score   support\n",
      "\n",
      "Non Duplicated       0.65      0.90      0.75     49371\n",
      "    Duplicated       0.51      0.17      0.26     29294\n",
      "\n",
      "   avg / total       0.60      0.63      0.57     78665\n",
      "\n",
      "ROC Score: 0.5375698071180387\n",
      "Accuracy Score: 0.6303184389499777\n",
      "Average Precision Score: 0.4961784454820396\n",
      "f1 Score: 0.25974290441644393\n",
      "Confusion matrix, without normalization\n",
      "[[44482  4889]\n",
      " [24192  5102]]\n"
     ]
    },
    {
     "data": {
      "image/png": "[encoded data removed]",
      "text/plain": [
       "<matplotlib.figure.Figure at 0x7f055ae0aa58>"
      ]
     },
     "metadata": {},
     "output_type": "display_data"
    }
   ],
   "source": [
    "roc_xgb = clf_eval(LR_tf,  x_valid, y_valid)"
   ]
  },
  {
   "cell_type": "code",
   "execution_count": 37,
   "metadata": {},
   "outputs": [
    {
     "name": "stdout",
     "output_type": "stream",
     "text": [
      "LogLoss Score: 0.6187880180578937\n"
     ]
    }
   ],
   "source": [
    "y_valid = np.asarray(y_valid, dtype=\"|S6\")\n",
    "print('LogLoss Score: {}'.format(log_loss(list(y_valid), LR_tf.predict_proba(x_valid))))"
   ]
  },
  {
   "cell_type": "markdown",
   "metadata": {},
   "source": [
    "### Random Forest"
   ]
  },
  {
   "cell_type": "code",
   "execution_count": 38,
   "metadata": {
    "collapsed": true
   },
   "outputs": [],
   "source": [
    "from sklearn.ensemble import RandomForestClassifier\n",
    "randomforest_tf = RandomForestClassifier(n_estimators=300, max_features='auto', bootstrap=False, \n",
    "                               oob_score=False, n_jobs=-1, random_state=0).fit(x_train, y_train)"
   ]
  },
  {
   "cell_type": "code",
   "execution_count": 39,
   "metadata": {},
   "outputs": [
    {
     "name": "stdout",
     "output_type": "stream",
     "text": [
      "Classification Report\n",
      "                precision    recall  f1-score   support\n",
      "\n",
      "Non Duplicated       0.75      0.79      0.77     49371\n",
      "    Duplicated       0.62      0.56      0.59     29294\n",
      "\n",
      "   avg / total       0.70      0.71      0.70     78665\n",
      "\n",
      "ROC Score: 0.6755445071333\n",
      "Accuracy Score: 0.7055361342401322\n",
      "Average Precision Score: 0.6689990383099601\n",
      "f1 Score: 0.58530559633356\n",
      "Confusion matrix, without normalization\n",
      "[[39154 10217]\n",
      " [12947 16347]]\n"
     ]
    },
    {
     "data": {
      "image/png": "[encoded data removed]",
      "text/plain": [
       "<matplotlib.figure.Figure at 0x7f0559964eb8>"
      ]
     },
     "metadata": {},
     "output_type": "display_data"
    }
   ],
   "source": [
    "roc_xgb = clf_eval(randomforest_tf,  x_valid, y_valid)"
   ]
  },
  {
   "cell_type": "code",
   "execution_count": 40,
   "metadata": {},
   "outputs": [
    {
     "name": "stdout",
     "output_type": "stream",
     "text": [
      "LogLoss Score: 0.5397633868275682\n"
     ]
    }
   ],
   "source": [
    "y_valid = np.asarray(y_valid, dtype=\"|S6\")\n",
    "print('LogLoss Score: {}'.format(log_loss(list(y_valid), randomforest_tf.predict_proba(x_valid))))"
   ]
  },
  {
   "cell_type": "markdown",
   "metadata": {},
   "source": [
    "### VOTING"
   ]
  },
  {
   "cell_type": "code",
   "execution_count": 47,
   "metadata": {},
   "outputs": [
    {
     "ename": "NameError",
     "evalue": "name 'bst' is not defined",
     "output_type": "error",
     "traceback": [
      "\u001b[0;31m---------------------------------------------------------------------------\u001b[0m",
      "\u001b[0;31mNameError\u001b[0m                                 Traceback (most recent call last)",
      "\u001b[0;32m<ipython-input-47-9bc093ffb8b6>\u001b[0m in \u001b[0;36m<module>\u001b[0;34m()\u001b[0m\n\u001b[1;32m      3\u001b[0m vot_tf_idf = VotingClassifier(estimators=[('rf', randomforest_tf),\n\u001b[1;32m      4\u001b[0m                                              \u001b[0;34m(\u001b[0m\u001b[0;34m'lr'\u001b[0m\u001b[0;34m,\u001b[0m \u001b[0mLR_tf\u001b[0m\u001b[0;34m)\u001b[0m\u001b[0;34m,\u001b[0m\u001b[0;34m\u001b[0m\u001b[0m\n\u001b[0;32m----> 5\u001b[0;31m                                              ('xb', bst)], voting='soft').fit(x_train, y_train)\n\u001b[0m",
      "\u001b[0;31mNameError\u001b[0m: name 'bst' is not defined"
     ]
    }
   ],
   "source": [
    "from sklearn.ensemble import VotingClassifier\n",
    "\n",
    "vot_tf_idf = VotingClassifier(estimators=[('rf', randomforest_tf),\n",
    "                                             ('lr', LR_tf)], voting='soft').fit(x_train, y_train)\n"
   ]
  },
  {
   "cell_type": "code",
   "execution_count": 45,
   "metadata": {},
   "outputs": [
    {
     "name": "stdout",
     "output_type": "stream",
     "text": [
      "Classification Report\n",
      "                precision    recall  f1-score   support\n",
      "\n",
      "Non Duplicated       0.71      0.89      0.79     49371\n",
      "    Duplicated       0.67      0.38      0.48     29294\n",
      "\n",
      "   avg / total       0.69      0.70      0.67     78665\n",
      "\n",
      "ROC Score: 0.6331855337538188\n",
      "Accuracy Score: 0.6987859912286277\n",
      "Average Precision Score: 0.6393813018684388\n",
      "f1 Score: 0.48188397874620076\n",
      "Confusion matrix, without normalization\n",
      "[[43951  5420]\n",
      " [18275 11019]]\n"
     ]
    },
    {
     "data": {
      "image/png": "[encoded data removed]",
      "text/plain": [
       "<matplotlib.figure.Figure at 0x7f055adb6f60>"
      ]
     },
     "metadata": {},
     "output_type": "display_data"
    }
   ],
   "source": [
    "roc_xgb = clf_eval(vot_tf_idf,  x_valid, y_valid)"
   ]
  },
  {
   "cell_type": "code",
   "execution_count": 46,
   "metadata": {},
   "outputs": [
    {
     "name": "stdout",
     "output_type": "stream",
     "text": [
      "LogLoss Score: 0.5502968692024861\n"
     ]
    }
   ],
   "source": [
    "y_valid = np.asarray(y_valid, dtype=\"|S6\")\n",
    "print('LogLoss Score: {}'.format(log_loss(list(y_valid), vot_tf_idf.predict_proba(x_valid))))"
   ]
  },
  {
   "cell_type": "code",
   "execution_count": null,
   "metadata": {
    "collapsed": true
   },
   "outputs": [],
   "source": []
  }
 ],
 "metadata": {
  "kernelspec": {
   "display_name": "Python 3",
   "language": "python",
   "name": "python3"
  },
  "language_info": {
   "codemirror_mode": {
    "name": "ipython",
    "version": 3
   },
   "file_extension": ".py",
   "mimetype": "text/x-python",
   "name": "python",
   "nbconvert_exporter": "python",
   "pygments_lexer": "ipython3",
   "version": "3.5.2+"
  }
 },
 "nbformat": 4,
 "nbformat_minor": 2
}
